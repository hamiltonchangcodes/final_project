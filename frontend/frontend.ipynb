{
 "cells": [
  {
   "cell_type": "code",
   "execution_count": 2,
   "metadata": {},
   "outputs": [],
   "source": [
    "from PIL import Image"
   ]
  },
  {
   "cell_type": "code",
   "execution_count": 2,
   "metadata": {},
   "outputs": [],
   "source": [
    "import streamlit as st\n",
    "import numpy as np\n",
    "import pandas as pd\n"
   ]
  },
  {
   "cell_type": "code",
   "execution_count": 3,
   "metadata": {},
   "outputs": [],
   "source": [
    "def load_data(data):\n",
    "    if data == 'Manhattan':\n",
    "        df = pd.read_csv('displaycardManhattan.csv', encoding='utf-8')\n",
    "        sn = pd.read_csv('Manhattan_snapshot.csv', encoding='utf-8')\n",
    "    \n",
    "    elif data == 'Brooklyn':\n",
    "        df = pd.read_csv('displaycardBrooklyn.csv', encoding='utf-8')\n",
    "        sn = pd.read_csv('Brooklyn_snapshot.csv', encoding='utf-8')\n",
    "        \n",
    "    elif data == 'Queens':\n",
    "        df = pd.read_csv('displaycardQueens.csv', encoding='utf-8')\n",
    "        sn = pd.read_csv('Queens_snapshot.csv', encoding='utf-8')\n",
    "      \n",
    "    elif data == 'Staten Island':\n",
    "        df = pd.read_csv('displaycardStatenIsland.csv', encoding='utf-8')\n",
    "        sn = pd.read_csv('StatenIsland_snapshot.csv', encoding='utf-8')\n",
    "      \n",
    "    elif data == 'The Bronx':\n",
    "        df = pd.read_csv('displaycardBronx.csv', encoding='utf-8')\n",
    "        sn = pd.read_csv('Bronx_snapshot.csv', encoding='utf-8')\n",
    "   \n",
    "    return df, sn"
   ]
  },
  {
   "cell_type": "code",
   "execution_count": 9,
   "metadata": {},
   "outputs": [
    {
     "data": {
      "text/plain": [
       "<streamlit.DeltaGenerator.DeltaGenerator at 0x108be7828>"
      ]
     },
     "execution_count": 9,
     "metadata": {},
     "output_type": "execute_result"
    }
   ],
   "source": [
    "st.title('Yelp Report Card')"
   ]
  },
  {
   "cell_type": "code",
   "execution_count": 10,
   "metadata": {},
   "outputs": [],
   "source": [
    "st.write('by Hamilton Chang\\n')"
   ]
  },
  {
   "cell_type": "code",
   "execution_count": 11,
   "metadata": {
    "scrolled": true
   },
   "outputs": [
    {
     "data": {
      "text/plain": [
       "<streamlit.DeltaGenerator.DeltaGenerator at 0x108be7828>"
      ]
     },
     "execution_count": 11,
     "metadata": {},
     "output_type": "execute_result"
    }
   ],
   "source": [
    "image = Image.open('download.png')\n",
    "st.image(image, caption='Yelp!', use_column_width=False, format='PNG')"
   ]
  },
  {
   "cell_type": "code",
   "execution_count": null,
   "metadata": {},
   "outputs": [],
   "source": [
    "st.markdown('## UPDATE: Snapshot of positive and negative reviews have been added!')"
   ]
  },
  {
   "cell_type": "code",
   "execution_count": 12,
   "metadata": {},
   "outputs": [
    {
     "data": {
      "text/plain": [
       "<streamlit.DeltaGenerator.DeltaGenerator at 0x108be7828>"
      ]
     },
     "execution_count": 12,
     "metadata": {},
     "output_type": "execute_result"
    }
   ],
   "source": [
    "st.markdown('Welcome to the Yelp Report Card.  For this project, I collected approximately 460,000 reviews from 5000 restaurants in New York City.  I then processed them for Sentiment Analysis to determine if the review was positive or negative.  My next step was to use Latent Dirichlet Alloction or LDA on the approximately 15 million words in the reviews to determine the topic of the review, separated as Food, or Service.  Lastly, I combined my two analysis to determine if the reveiwer liked the food/service, or did not like the food/service and produced a final score as a percentage of responses.')\n"
   ]
  },
  {
   "cell_type": "code",
   "execution_count": 13,
   "metadata": {},
   "outputs": [
    {
     "data": {
      "text/plain": [
       "<streamlit.DeltaGenerator.DeltaGenerator at 0x108be7828>"
      ]
     },
     "execution_count": 13,
     "metadata": {},
     "output_type": "execute_result"
    }
   ],
   "source": [
    "st.markdown('Why are we doing this?  To help restaurants establish a baseline and determine what part of the dining experience they need to work on.  This potentially could be an add on service for business owners so they can fine tune their restaurant and hopefully improve their numbers.')"
   ]
  },
  {
   "cell_type": "code",
   "execution_count": 14,
   "metadata": {},
   "outputs": [
    {
     "data": {
      "text/plain": [
       "<streamlit.DeltaGenerator.DeltaGenerator at 0x108be7828>"
      ]
     },
     "execution_count": 14,
     "metadata": {},
     "output_type": "execute_result"
    }
   ],
   "source": [
    "st.markdown('## Feel Free to Play with it!')"
   ]
  },
  {
   "cell_type": "code",
   "execution_count": 22,
   "metadata": {},
   "outputs": [],
   "source": [
    "#df1 = pd.read_csv('displaycardManhattan.csv')"
   ]
  },
  {
   "cell_type": "code",
   "execution_count": 23,
   "metadata": {},
   "outputs": [],
   "source": [
    "#df1 = df1.set_index('restaurant')"
   ]
  },
  {
   "cell_type": "code",
   "execution_count": 26,
   "metadata": {},
   "outputs": [],
   "source": [
    "#df1 = df1.drop(columns='Unnamed: 0')"
   ]
  },
  {
   "cell_type": "code",
   "execution_count": 62,
   "metadata": {},
   "outputs": [],
   "source": [
    "boros = ['Manhattan', 'Brooklyn', 'Queens', 'Staten Island', 'The Bronx']"
   ]
  },
  {
   "cell_type": "code",
   "execution_count": 63,
   "metadata": {},
   "outputs": [],
   "source": [
    "#named = df1.index.to_list()"
   ]
  },
  {
   "cell_type": "code",
   "execution_count": 64,
   "metadata": {},
   "outputs": [],
   "source": [
    "boro = st.sidebar.selectbox('Choose a Borough', boros)"
   ]
  },
  {
   "cell_type": "code",
   "execution_count": 65,
   "metadata": {},
   "outputs": [],
   "source": [
    "df,sn = load_data(boro)\n"
   ]
  },
  {
   "cell_type": "code",
   "execution_count": null,
   "metadata": {},
   "outputs": [],
   "source": []
  },
  {
   "cell_type": "code",
   "execution_count": 66,
   "metadata": {},
   "outputs": [],
   "source": [
    "df = df.set_index('restaurant')\n",
    "sn = sn.set_index('restaurant')"
   ]
  },
  {
   "cell_type": "code",
   "execution_count": 67,
   "metadata": {},
   "outputs": [],
   "source": [
    "df = df.drop(columns = 'Unnamed: 0')\n",
    "sn = sn.drop(columns = 'Unnamed: 0')"
   ]
  },
  {
   "cell_type": "code",
   "execution_count": null,
   "metadata": {},
   "outputs": [],
   "source": [
    "df['new col'] = range(0, len(df))\n",
    "sn['new col'] = range(0, len(sn))"
   ]
  },
  {
   "cell_type": "code",
   "execution_count": 122,
   "metadata": {},
   "outputs": [
    {
     "data": {
      "text/html": [
       "<div>\n",
       "<style scoped>\n",
       "    .dataframe tbody tr th:only-of-type {\n",
       "        vertical-align: middle;\n",
       "    }\n",
       "\n",
       "    .dataframe tbody tr th {\n",
       "        vertical-align: top;\n",
       "    }\n",
       "\n",
       "    .dataframe thead th {\n",
       "        text-align: right;\n",
       "    }\n",
       "</style>\n",
       "<table border=\"1\" class=\"dataframe\">\n",
       "  <thead>\n",
       "    <tr style=\"text-align: right;\">\n",
       "      <th></th>\n",
       "      <th>negfood_score</th>\n",
       "      <th>negservice_score</th>\n",
       "      <th>posfood_score</th>\n",
       "      <th>posservice_score</th>\n",
       "      <th>new col</th>\n",
       "    </tr>\n",
       "    <tr>\n",
       "      <th>restaurant</th>\n",
       "      <th></th>\n",
       "      <th></th>\n",
       "      <th></th>\n",
       "      <th></th>\n",
       "      <th></th>\n",
       "    </tr>\n",
       "  </thead>\n",
       "  <tbody>\n",
       "    <tr>\n",
       "      <th>Haidilao Hotpot</th>\n",
       "      <td>0.008197</td>\n",
       "      <td>0.032787</td>\n",
       "      <td>0.459016</td>\n",
       "      <td>0.500000</td>\n",
       "      <td>0</td>\n",
       "    </tr>\n",
       "    <tr>\n",
       "      <th>The Alcove</th>\n",
       "      <td>0.007874</td>\n",
       "      <td>0.031496</td>\n",
       "      <td>0.574803</td>\n",
       "      <td>0.385827</td>\n",
       "      <td>1</td>\n",
       "    </tr>\n",
       "    <tr>\n",
       "      <th>Jack &amp; Nellie's</th>\n",
       "      <td>0.042373</td>\n",
       "      <td>0.059322</td>\n",
       "      <td>0.661017</td>\n",
       "      <td>0.237288</td>\n",
       "      <td>2</td>\n",
       "    </tr>\n",
       "    <tr>\n",
       "      <th>Mojo Restaurant</th>\n",
       "      <td>0.050420</td>\n",
       "      <td>0.050420</td>\n",
       "      <td>0.596639</td>\n",
       "      <td>0.302521</td>\n",
       "      <td>3</td>\n",
       "    </tr>\n",
       "    <tr>\n",
       "      <th>Queens Comfort</th>\n",
       "      <td>0.039683</td>\n",
       "      <td>0.039683</td>\n",
       "      <td>0.579365</td>\n",
       "      <td>0.341270</td>\n",
       "      <td>4</td>\n",
       "    </tr>\n",
       "  </tbody>\n",
       "</table>\n",
       "</div>"
      ],
      "text/plain": [
       "                 negfood_score  negservice_score  posfood_score  \\\n",
       "restaurant                                                        \n",
       "Haidilao Hotpot       0.008197          0.032787       0.459016   \n",
       "The Alcove            0.007874          0.031496       0.574803   \n",
       "Jack & Nellie's       0.042373          0.059322       0.661017   \n",
       "Mojo Restaurant       0.050420          0.050420       0.596639   \n",
       "Queens Comfort        0.039683          0.039683       0.579365   \n",
       "\n",
       "                 posservice_score  new col  \n",
       "restaurant                                  \n",
       "Haidilao Hotpot          0.500000        0  \n",
       "The Alcove               0.385827        1  \n",
       "Jack & Nellie's          0.237288        2  \n",
       "Mojo Restaurant          0.302521        3  \n",
       "Queens Comfort           0.341270        4  "
      ]
     },
     "execution_count": 122,
     "metadata": {},
     "output_type": "execute_result"
    }
   ],
   "source": [
    "df.head()"
   ]
  },
  {
   "cell_type": "code",
   "execution_count": 1,
   "metadata": {},
   "outputs": [
    {
     "ename": "NameError",
     "evalue": "name 'df' is not defined",
     "output_type": "error",
     "traceback": [
      "\u001b[0;31m---------------------------------------------------------------------------\u001b[0m",
      "\u001b[0;31mNameError\u001b[0m                                 Traceback (most recent call last)",
      "\u001b[0;32m<ipython-input-1-ef119842f087>\u001b[0m in \u001b[0;36m<module>\u001b[0;34m\u001b[0m\n\u001b[0;32m----> 1\u001b[0;31m \u001b[0mnamed\u001b[0m \u001b[0;34m=\u001b[0m \u001b[0mdf\u001b[0m\u001b[0;34m.\u001b[0m\u001b[0mindex\u001b[0m\u001b[0;34m.\u001b[0m\u001b[0mto_list\u001b[0m\u001b[0;34m(\u001b[0m\u001b[0;34m)\u001b[0m\u001b[0;34m\u001b[0m\u001b[0;34m\u001b[0m\u001b[0m\n\u001b[0m\u001b[1;32m      2\u001b[0m \u001b[0mindexed\u001b[0m \u001b[0;34m=\u001b[0m \u001b[0mdf\u001b[0m\u001b[0;34m[\u001b[0m\u001b[0;34m'new col'\u001b[0m\u001b[0;34m]\u001b[0m\u001b[0;34m.\u001b[0m\u001b[0mto_list\u001b[0m\u001b[0;34m(\u001b[0m\u001b[0;34m)\u001b[0m\u001b[0;34m\u001b[0m\u001b[0;34m\u001b[0m\u001b[0m\n",
      "\u001b[0;31mNameError\u001b[0m: name 'df' is not defined"
     ]
    }
   ],
   "source": [
    "named = df.index.to_list()\n",
    "indexed = df['new col'].to_list()"
   ]
  },
  {
   "cell_type": "code",
   "execution_count": null,
   "metadata": {},
   "outputs": [],
   "source": [
    "dic = dict(zip(indexed, named))"
   ]
  },
  {
   "cell_type": "code",
   "execution_count": 69,
   "metadata": {},
   "outputs": [],
   "source": [
    "option = st.sidebar.selectbox(\n",
    "    'Choose a Restaurant',\n",
    "     indexed, format_func=lambda x: dic[x])"
   ]
  },
  {
   "cell_type": "code",
   "execution_count": 70,
   "metadata": {},
   "outputs": [
    {
     "data": {
      "text/plain": [
       "<streamlit.DeltaGenerator.DeltaGenerator at 0x109a94ac8>"
      ]
     },
     "execution_count": 70,
     "metadata": {},
     "output_type": "execute_result"
    }
   ],
   "source": [
    "st.balloons()"
   ]
  },
  {
   "cell_type": "code",
   "execution_count": null,
   "metadata": {},
   "outputs": [],
   "source": []
  },
  {
   "cell_type": "code",
   "execution_count": 71,
   "metadata": {},
   "outputs": [],
   "source": [
    "st.write(df.iloc[option, :4])"
   ]
  },
  {
   "cell_type": "code",
   "execution_count": null,
   "metadata": {},
   "outputs": [],
   "source": []
  },
  {
   "cell_type": "code",
   "execution_count": null,
   "metadata": {},
   "outputs": [],
   "source": []
  },
  {
   "cell_type": "code",
   "execution_count": null,
   "metadata": {},
   "outputs": [],
   "source": []
  },
  {
   "cell_type": "code",
   "execution_count": null,
   "metadata": {},
   "outputs": [],
   "source": []
  },
  {
   "cell_type": "code",
   "execution_count": null,
   "metadata": {},
   "outputs": [],
   "source": []
  },
  {
   "cell_type": "code",
   "execution_count": 108,
   "metadata": {},
   "outputs": [
    {
     "data": {
      "text/plain": [
       "<streamlit.DeltaGenerator.DeltaGenerator at 0x109a94ac8>"
      ]
     },
     "execution_count": 108,
     "metadata": {},
     "output_type": "execute_result"
    }
   ],
   "source": [
    "st.bar_chart(df.iloc[option, :4], height=80)"
   ]
  },
  {
   "cell_type": "code",
   "execution_count": null,
   "metadata": {},
   "outputs": [],
   "source": [
    "st.markdown('## The below is a snapshot of some Positive and Negative Reviews:')"
   ]
  },
  {
   "cell_type": "code",
   "execution_count": null,
   "metadata": {},
   "outputs": [],
   "source": [
    "st.write(sn.iloc[option]['Positive Review 1'])"
   ]
  },
  {
   "cell_type": "code",
   "execution_count": null,
   "metadata": {},
   "outputs": [],
   "source": [
    "st.write(sn.iloc[option]['Positive Review 2'])"
   ]
  },
  {
   "cell_type": "code",
   "execution_count": null,
   "metadata": {},
   "outputs": [],
   "source": [
    "st.write(sn.iloc[option]['Positive Review 3'])"
   ]
  },
  {
   "cell_type": "code",
   "execution_count": null,
   "metadata": {},
   "outputs": [],
   "source": [
    "st.write(sn.iloc[option]['Negative Review 1'])"
   ]
  },
  {
   "cell_type": "code",
   "execution_count": null,
   "metadata": {},
   "outputs": [],
   "source": [
    "st.write(sn.iloc[option]['Negative Review 2'])"
   ]
  },
  {
   "cell_type": "code",
   "execution_count": null,
   "metadata": {},
   "outputs": [],
   "source": [
    "st.write(sn.iloc[option]['Negative Review 3'])"
   ]
  },
  {
   "cell_type": "code",
   "execution_count": null,
   "metadata": {},
   "outputs": [],
   "source": []
  },
  {
   "cell_type": "code",
   "execution_count": null,
   "metadata": {},
   "outputs": [],
   "source": []
  },
  {
   "cell_type": "code",
   "execution_count": 4,
   "metadata": {},
   "outputs": [],
   "source": [
    "#df = pd.read_csv('displaycardQueens.csv', encoding='utf-8')\n",
    "#sn = pd.read_csv('Queens_snapshot.csv', encoding='utf-8')"
   ]
  },
  {
   "cell_type": "code",
   "execution_count": 5,
   "metadata": {},
   "outputs": [
    {
     "data": {
      "text/html": [
       "<div>\n",
       "<style scoped>\n",
       "    .dataframe tbody tr th:only-of-type {\n",
       "        vertical-align: middle;\n",
       "    }\n",
       "\n",
       "    .dataframe tbody tr th {\n",
       "        vertical-align: top;\n",
       "    }\n",
       "\n",
       "    .dataframe thead th {\n",
       "        text-align: right;\n",
       "    }\n",
       "</style>\n",
       "<table border=\"1\" class=\"dataframe\">\n",
       "  <thead>\n",
       "    <tr style=\"text-align: right;\">\n",
       "      <th></th>\n",
       "      <th>Unnamed: 0</th>\n",
       "      <th>negfood_score</th>\n",
       "      <th>negservice_score</th>\n",
       "      <th>posfood_score</th>\n",
       "      <th>posservice_score</th>\n",
       "      <th>restaurant</th>\n",
       "    </tr>\n",
       "  </thead>\n",
       "  <tbody>\n",
       "    <tr>\n",
       "      <th>0</th>\n",
       "      <td>0</td>\n",
       "      <td>0.008197</td>\n",
       "      <td>0.032787</td>\n",
       "      <td>0.459016</td>\n",
       "      <td>0.500000</td>\n",
       "      <td>Haidilao Hotpot</td>\n",
       "    </tr>\n",
       "    <tr>\n",
       "      <th>1</th>\n",
       "      <td>1</td>\n",
       "      <td>0.007874</td>\n",
       "      <td>0.031496</td>\n",
       "      <td>0.574803</td>\n",
       "      <td>0.385827</td>\n",
       "      <td>The Alcove</td>\n",
       "    </tr>\n",
       "    <tr>\n",
       "      <th>2</th>\n",
       "      <td>2</td>\n",
       "      <td>0.042373</td>\n",
       "      <td>0.059322</td>\n",
       "      <td>0.661017</td>\n",
       "      <td>0.237288</td>\n",
       "      <td>Jack &amp; Nellie's</td>\n",
       "    </tr>\n",
       "    <tr>\n",
       "      <th>3</th>\n",
       "      <td>3</td>\n",
       "      <td>0.050420</td>\n",
       "      <td>0.050420</td>\n",
       "      <td>0.596639</td>\n",
       "      <td>0.302521</td>\n",
       "      <td>Mojo Restaurant</td>\n",
       "    </tr>\n",
       "    <tr>\n",
       "      <th>4</th>\n",
       "      <td>4</td>\n",
       "      <td>0.039683</td>\n",
       "      <td>0.039683</td>\n",
       "      <td>0.579365</td>\n",
       "      <td>0.341270</td>\n",
       "      <td>Queens Comfort</td>\n",
       "    </tr>\n",
       "  </tbody>\n",
       "</table>\n",
       "</div>"
      ],
      "text/plain": [
       "   Unnamed: 0  negfood_score  negservice_score  posfood_score  \\\n",
       "0           0       0.008197          0.032787       0.459016   \n",
       "1           1       0.007874          0.031496       0.574803   \n",
       "2           2       0.042373          0.059322       0.661017   \n",
       "3           3       0.050420          0.050420       0.596639   \n",
       "4           4       0.039683          0.039683       0.579365   \n",
       "\n",
       "   posservice_score       restaurant  \n",
       "0          0.500000  Haidilao Hotpot  \n",
       "1          0.385827       The Alcove  \n",
       "2          0.237288  Jack & Nellie's  \n",
       "3          0.302521  Mojo Restaurant  \n",
       "4          0.341270   Queens Comfort  "
      ]
     },
     "execution_count": 5,
     "metadata": {},
     "output_type": "execute_result"
    }
   ],
   "source": [
    "#df.head()"
   ]
  },
  {
   "cell_type": "code",
   "execution_count": 6,
   "metadata": {},
   "outputs": [],
   "source": [
    "#df = df.set_index('restaurant')\n",
    "#sn = sn.set_index('restaurant')"
   ]
  },
  {
   "cell_type": "code",
   "execution_count": 7,
   "metadata": {},
   "outputs": [],
   "source": [
    "#df = df.drop(columns = 'Unnamed: 0')\n",
    "#sn = sn.drop(columns = 'Unnamed: 0')"
   ]
  },
  {
   "cell_type": "code",
   "execution_count": 8,
   "metadata": {},
   "outputs": [],
   "source": [
    "#df['new col'] = range(0, len(df))\n",
    "#sn['new col'] = range(0, len(sn))"
   ]
  },
  {
   "cell_type": "code",
   "execution_count": 9,
   "metadata": {},
   "outputs": [],
   "source": [
    "#named = df.index.to_list()\n",
    "#indexed = df['new col'].to_list()"
   ]
  },
  {
   "cell_type": "code",
   "execution_count": 10,
   "metadata": {},
   "outputs": [],
   "source": [
    "#dic = dict(zip(indexed, named))"
   ]
  },
  {
   "cell_type": "code",
   "execution_count": 11,
   "metadata": {},
   "outputs": [
    {
     "data": {
      "text/plain": [
       "{0: 'Haidilao Hotpot',\n",
       " 1: 'The Alcove',\n",
       " 2: \"Jack & Nellie's\",\n",
       " 3: 'Mojo Restaurant',\n",
       " 4: 'Queens Comfort',\n",
       " 5: 'Memories of Shanghai',\n",
       " 6: 'Forest Hills Station House',\n",
       " 7: 'Kitchen 79',\n",
       " 8: 'Sugar Freak',\n",
       " 9: 'Sanfords Astoria',\n",
       " 10: 'Metro Taco',\n",
       " 11: \"Mom's Kitchen & Bar\",\n",
       " 12: 'The Highwater',\n",
       " 13: 'Jora Restaurant & Bar',\n",
       " 14: 'Oceanic Boil',\n",
       " 15: 'Arepa Lady',\n",
       " 16: 'Cabana',\n",
       " 17: 'Sweet Chick',\n",
       " 18: 'Dinerbar',\n",
       " 19: \"Joe's Steam Rice Roll\",\n",
       " 20: \"Trattoria L'incontro\",\n",
       " 21: 'Trestle',\n",
       " 22: 'Nicks Bistro',\n",
       " 23: 'The Queensboro',\n",
       " 24: 'LIC Market',\n",
       " 25: 'Naked Crab',\n",
       " 26: 'Rincon Criollo',\n",
       " 27: 'Maiella',\n",
       " 28: 'IL Triangolo Restaurant',\n",
       " 29: 'Lobster House All You Can Eat Seafood',\n",
       " 30: 'Taverna Kyclades',\n",
       " 31: 'JoJu',\n",
       " 32: 'Rainhas Churrascaria',\n",
       " 33: 'Marani',\n",
       " 34: 'Meet The Meat',\n",
       " 35: 'The Shady Lady',\n",
       " 36: 'Seva Indian Cuisine',\n",
       " 37: 'Lhasa Fast Food',\n",
       " 38: 'Astoria Seafood',\n",
       " 39: \"Kin'd\",\n",
       " 40: 'SoleLuna Restaurant',\n",
       " 41: 'SriPraPhai Thai Restaurant',\n",
       " 42: \"Julia's\",\n",
       " 43: 'The Beast Next Door',\n",
       " 44: 'The Cast Iron Pot 3',\n",
       " 45: 'Park Side Restaurant',\n",
       " 46: 'Hahm Ji Bach',\n",
       " 47: 'Bund On Broadway',\n",
       " 48: 'Shanghai You Garden',\n",
       " 49: 'Casa Enrique',\n",
       " 50: 'Mamajuana Cafe Queens',\n",
       " 51: 'Leaf Bar & Lounge',\n",
       " 52: 'District Saigon',\n",
       " 53: 'Queens International Night Market',\n",
       " 54: 'John Brown Smokehouse',\n",
       " 55: 'Lucky Chen - 五锦轩',\n",
       " 56: 'The Breakfast Shack',\n",
       " 57: 'Côté Soleil',\n",
       " 58: 'Maxi’s Noodle',\n",
       " 59: 'Sabor De Cuba',\n",
       " 60: 'Gastroteca',\n",
       " 61: 'Mama Lee',\n",
       " 62: 'The Bonnie',\n",
       " 63: 'Mito Asian Fusion',\n",
       " 64: 'Café Henri',\n",
       " 65: 'OBA Mediterranean Gyro & Grill',\n",
       " 66: 'Kung Fu Xiao Long Bao',\n",
       " 67: 'KAL',\n",
       " 68: 'Queens Bully',\n",
       " 69: 'LaGuardia Cafe',\n",
       " 70: 'The Thirsty Koala',\n",
       " 71: 'Hashi Ramen & Izakaya',\n",
       " 72: 'Izakaya Mew Flushing',\n",
       " 73: 'Ornella Trattoria Italiana',\n",
       " 74: 'Taste Good Malaysian Cuisine',\n",
       " 75: 'Tuscan Hills',\n",
       " 76: \"Dawa's\",\n",
       " 77: 'Xin Taste Hand Pull Noodle',\n",
       " 78: 'Butcher Bar',\n",
       " 79: 'Main Street C&L Imperial Taiwanese Gourmet 北港台菜館',\n",
       " 80: 'Rove',\n",
       " 81: 'Tamashii Red',\n",
       " 82: '969 NYC Coffee',\n",
       " 83: 'Yummy Noodle House 粥麵之家',\n",
       " 84: \"London Lennie's\",\n",
       " 85: 'Bistro Eloise',\n",
       " 86: 'Sup Thai Kitchen',\n",
       " 87: 'The Astorian',\n",
       " 88: 'Blend',\n",
       " 89: \"Fresco's Cantina\",\n",
       " 90: 'The Door',\n",
       " 91: 'Tiger Sugar',\n",
       " 92: 'Lao Bei Fang Dumpling House',\n",
       " 93: 'Addictive Wine and Tapas Bar',\n",
       " 94: 'Mu Ramen',\n",
       " 95: \"Dirty Pierre's\",\n",
       " 96: 'The Dolar Shop',\n",
       " 97: 'Dae Sung Kal Guk Su',\n",
       " 98: 'Roast & Co',\n",
       " 99: 'Lamoon',\n",
       " 100: 'La Cabana',\n",
       " 101: 'The Coop',\n",
       " 102: 'Red Pipe Cafe',\n",
       " 103: 'Gyu-Kaku Japanese BBQ',\n",
       " 104: 'Good Eats Diner',\n",
       " 105: 'Chela & Garnacha',\n",
       " 106: 'Sik Gaek',\n",
       " 107: \"Tito Rad's Grill\",\n",
       " 108: 'No5nyc',\n",
       " 109: 'Legend Chicken',\n",
       " 110: 'While In Kathmandu',\n",
       " 111: 'Mad For Chicken',\n",
       " 112: 'Spy C Cuisine',\n",
       " 113: 'Industry 1332',\n",
       " 114: 'Anable Basin Sailing Bar & Grill',\n",
       " 115: 'The Lowery Bar & Kitchen',\n",
       " 116: 'Sweet Afton',\n",
       " 117: 'Eim Khao Mun Kai Elmhurst',\n",
       " 118: 'Fu Yuan',\n",
       " 119: 'Pho Metro',\n",
       " 120: 'Taiwanese Gourmet',\n",
       " 121: 'La Boulangerie',\n",
       " 122: 'Xiang Hot Pot',\n",
       " 123: 'Urubamba',\n",
       " 124: 'Rimtin Mediterranean Restaurant',\n",
       " 125: 'Gossip House',\n",
       " 126: 'Cipollina Gourmet',\n",
       " 127: 'Pelicana Chicken',\n",
       " 128: 'The Panorama of My Silence-Heart',\n",
       " 129: 'Tavern 157',\n",
       " 130: 'Bellwether',\n",
       " 131: 'Banter Irish Bar and Kitchen',\n",
       " 132: 'Szechuan Mountain House',\n",
       " 133: 'Ayada Thai',\n",
       " 134: 'Spring Shabu-Shabu',\n",
       " 135: 'Don Tequila Urban Cantina',\n",
       " 136: 'Zum Stammtisch',\n",
       " 137: 'Pio Pio 2',\n",
       " 138: 'Cheburechnaya',\n",
       " 139: 'Bajeko Sekuwa',\n",
       " 140: 'The Sweet Sap',\n",
       " 141: 'Aroma Brazil Restaurant',\n",
       " 142: 'Yummy Tummy Asian Bistro',\n",
       " 143: 'Casa Del Chef',\n",
       " 144: 'Little Pepper',\n",
       " 145: 'Pye Boat Noodle',\n",
       " 146: 'Psari Seafood Restaurant & Bar',\n",
       " 147: 'La Vecina',\n",
       " 148: \"Sal, Kris, & Charlie's Deli\",\n",
       " 149: 'Grand Sichuan NY II',\n",
       " 150: 'Kurry Qulture',\n",
       " 151: 'Matiz Latin Cuisine',\n",
       " 152: 'Umi Sushi',\n",
       " 153: 'Milkflower',\n",
       " 154: 'Arepas Cafe',\n",
       " 155: 'Taqueria Kermes',\n",
       " 156: 'Lobster Roll Factory',\n",
       " 157: 'Jägerhaus German Restaurants and Biergarten',\n",
       " 158: 'Pho Che',\n",
       " 159: 'Ninos Aq',\n",
       " 160: 'Peking BBQ',\n",
       " 161: \"Sami's Kabab House\",\n",
       " 162: 'The Classic Diner',\n",
       " 163: 'Nur Thai',\n",
       " 164: 'Tuk Tuk',\n",
       " 165: 'Souk El Shater',\n",
       " 166: 'Beijing Dumpling House',\n",
       " 167: \"Oliver's Astoria\",\n",
       " 168: 'Loukoumi Taverna',\n",
       " 169: 'BlackSea Fish & Grill',\n",
       " 170: 'Jaew Hon New York',\n",
       " 171: 'The Freakin Rican Restaurant',\n",
       " 172: 'Aperitif Bistro Bayside',\n",
       " 173: \"THE HUNTRESS whiskey n' wings\",\n",
       " 174: 'The Sparrow Tavern',\n",
       " 175: 'Akino',\n",
       " 176: \"Pop's Diner\",\n",
       " 177: \"Pop's Cocina Bar\",\n",
       " 178: 'Salvatoria Kitchen & Bar',\n",
       " 179: 'Ltauha Restaurant',\n",
       " 180: 'White Bear',\n",
       " 181: 'New World Mall Food Court',\n",
       " 182: 'Trinciti Roti Shop & Restaurant',\n",
       " 183: 'Quaint',\n",
       " 184: \"Norma's Corner Shoppe\",\n",
       " 185: 'Vesta',\n",
       " 186: 'The Local Press',\n",
       " 187: 'HinoMaru Ramen',\n",
       " 188: 'Piccola Venezia Restaurant',\n",
       " 189: \"Halalbee's\",\n",
       " 190: \"Jackson's Eatery | Bar\",\n",
       " 191: 'Bliss 46 Bistro',\n",
       " 192: 'Tu Casa Restaurant',\n",
       " 193: 'Liuyishou Hotpot',\n",
       " 194: 'Sotto Le Stelle',\n",
       " 195: 'Vite Vinosteria',\n",
       " 196: \"Tony's Beechhurst Deli\",\n",
       " 197: 'The Ozone Diner',\n",
       " 198: 'Il Poeta',\n",
       " 199: 'Cemitas El Tigre',\n",
       " 200: 'Manor Oktoberfest',\n",
       " 201: 'Spice Kitchen',\n",
       " 202: 'Off The Hook Raw Bar & Grill',\n",
       " 203: 'Hunan Kitchen of Grand Sichuan',\n",
       " 204: \"Mr. Dre's Kitchen Bar\",\n",
       " 205: 'Debasaki',\n",
       " 206: 'O Lavrador',\n",
       " 207: 'MACA Peruvian Restaurant',\n",
       " 208: 'Heat Caribbean Kitchen & Lounge',\n",
       " 209: 'You Garden Xiao Long Bao',\n",
       " 210: 'Matsuri',\n",
       " 211: 'Bocaito Cafe & Wine Bar',\n",
       " 212: 'Cafe Triskell',\n",
       " 213: 'Il Bambino',\n",
       " 214: 'Momo Crave',\n",
       " 215: \"Violet's Vietnamese Shoppe\",\n",
       " 216: 'Taqueria Coatzingo',\n",
       " 217: 'Avli The Little Greek Tavern',\n",
       " 218: 'DiWine',\n",
       " 219: 'Tournesol',\n",
       " 220: 'Pho Best',\n",
       " 221: \"Laly's Restaurant\",\n",
       " 222: \"Patrizia's Of Maspeth\",\n",
       " 223: 'Nippon Cha',\n",
       " 224: 'Koroni Souvlaki and Grill',\n",
       " 225: 'The Pomeroy',\n",
       " 226: 'Ssam Tong',\n",
       " 227: 'Slide Bar-B-Q',\n",
       " 228: 'Farine Baking Company',\n",
       " 229: 'Lali Guras',\n",
       " 230: \"Leo's Latticini Mama's\",\n",
       " 231: 'BKNY Thai Restaurant',\n",
       " 232: 'Shanghai Zhen Gong Fu 上海真功夫',\n",
       " 233: 'Jackson Hole',\n",
       " 234: '勝面 Sheng Ramen',\n",
       " 235: 'Phayul',\n",
       " 236: \"Rocco's Italian Sausages & Philly Cheese Steaks\",\n",
       " 237: 'La Vigna Restaurant',\n",
       " 238: 'Barosa',\n",
       " 239: 'Tru Astoria',\n",
       " 240: 'The Basac',\n",
       " 241: 'Pio Pio 1',\n",
       " 242: 'Pelicana Chicken',\n",
       " 243: \"Chimama's Noodle House\",\n",
       " 244: 'Murasaki',\n",
       " 245: 'Taqueria Santa Fe',\n",
       " 246: 'Zio Luigi',\n",
       " 247: 'Villa Brazil Cafe Grill',\n",
       " 248: 'Acquista Trattoria',\n",
       " 249: 'La Flor',\n",
       " 250: 'Amylos Taverna',\n",
       " 251: \"Queen's Room\",\n",
       " 252: 'Sky Cafe',\n",
       " 253: 'Taste of Samarkand',\n",
       " 254: 'Jamaican Flavors',\n",
       " 255: \"Jacup's\",\n",
       " 256: 'Alley 41',\n",
       " 257: 'Copacabana',\n",
       " 258: \"Christo's Steak House\",\n",
       " 259: 'Il Falco',\n",
       " 260: \"Dani's House of Pizza\",\n",
       " 261: 'La Cabana Argentinan Steakhouse',\n",
       " 262: 'Abuqir Seafood',\n",
       " 263: 'Ok Lah',\n",
       " 264: 'Don Peppe',\n",
       " 265: 'Asian Jewels Seafood Restaurant',\n",
       " 266: \"Mar's\",\n",
       " 267: 'Little Egypt',\n",
       " 268: 'Thái Son',\n",
       " 269: 'Bamboo Ya',\n",
       " 270: 'BCD Tofu House',\n",
       " 271: 'A-Churrasqueira Restaurant & Bar',\n",
       " 272: \"Bubba's Bistro\",\n",
       " 273: 'Blend Astoria',\n",
       " 274: 'Suzuki Shokudo',\n",
       " 275: \"Paloma's\",\n",
       " 276: 'Family Corner Restaurant',\n",
       " 277: \"Dee's\",\n",
       " 278: 'Unidentified Flying Chickens',\n",
       " 279: 'Penthouse 808',\n",
       " 280: 'Comfortland',\n",
       " 281: 'Ihawan',\n",
       " 282: 'Hug Esan',\n",
       " 283: 'Prince Tea House',\n",
       " 284: 'Ovelia',\n",
       " 285: 'O2 Korean BBQ',\n",
       " 286: 'Jollibee',\n",
       " 287: 'East Ocean Palace',\n",
       " 288: 'Kissfish',\n",
       " 289: 'Bareburger',\n",
       " 290: 'Adda',\n",
       " 291: 'Vibes',\n",
       " 292: 'Chihuahua',\n",
       " 293: \"Louie's Pizza\",\n",
       " 294: 'Bahari Estiatorio',\n",
       " 295: 'Himalayan Yak',\n",
       " 296: 'Picnic Garden',\n",
       " 297: 'Omani',\n",
       " 298: 'Tang Restaurant',\n",
       " 299: 'Tamashii Ramen',\n",
       " 300: 'Daxi Sichuan 大喜',\n",
       " 301: 'PappaRich Flushing',\n",
       " 302: 'Las Catrinas Mexican Bar & Eatery',\n",
       " 303: 'The Brewery Bar & Kitchen',\n",
       " 304: 'The Buffet',\n",
       " 305: 'Sushi Time',\n",
       " 306: 'Hot Space Grilled Fish',\n",
       " 307: 'The Haab',\n",
       " 308: 'Blend on the Water',\n",
       " 309: 'Pho Grand Bayside',\n",
       " 310: 'White Noise Coffee Co',\n",
       " 311: 'Imperial Palace',\n",
       " 312: 'Kabul Kabab House',\n",
       " 313: 'Khao Kang',\n",
       " 314: 'Dunhuang Lanzhou Beef Noodle',\n",
       " 315: 'Hot N Juicy Crawfish',\n",
       " 316: 'Dek Sen',\n",
       " 317: 'Spanglish NYC',\n",
       " 318: 'Shun Wang Restaurant',\n",
       " 319: 'El Campeon De Los Pollos',\n",
       " 320: 'THE BARONESS burgers + beers',\n",
       " 321: 'iCook Buffet',\n",
       " 322: 'Margherita Pizza',\n",
       " 323: 'SGD Tofu House',\n",
       " 324: 'Homemade Taqueria',\n",
       " 325: '88 Canteen',\n",
       " 326: 'Chicken Lovers',\n",
       " 327: 'Lunera Modern Mexican',\n",
       " 328: 'Parksanbal Babs',\n",
       " 329: 'Georgia Diner',\n",
       " 330: 'Takumen',\n",
       " 331: 'Mombar',\n",
       " 332: 'OK Ryan Restaurant',\n",
       " 333: 'Boon Chu Thai Place',\n",
       " 334: 'House of Thai',\n",
       " 335: \"Uncle Peter's\",\n",
       " 336: 'Malay Restaurant',\n",
       " 337: 'Astoria Craft',\n",
       " 338: 'I Love Paraguay',\n",
       " 339: 'Sushi Daizen',\n",
       " 340: 'Alberto Restaurant',\n",
       " 341: 'Max Bratwurst und Bier',\n",
       " 342: 'Taqueria Santa Fe',\n",
       " 343: \"Jane's Eatery\",\n",
       " 344: 'Katsuno',\n",
       " 345: 'Truva Cafe and Grill',\n",
       " 346: 'Nanking',\n",
       " 347: 'Nowadays',\n",
       " 348: 'Nick’s Pizza',\n",
       " 349: '5 Burro Cafe',\n",
       " 350: 'Xian Famous Foods',\n",
       " 351: 'The Factory Bar & Restaurant',\n",
       " 352: 'Fu Run Dong Bei',\n",
       " 353: \"Sabry's\",\n",
       " 354: 'MoCA Asian Bistro',\n",
       " 355: 'Krolewskie Jadlo',\n",
       " 356: 'Taste of Heaven',\n",
       " 357: '99 Favor Taste',\n",
       " 358: 'Victory Garden Cafe',\n",
       " 359: 'Plaka',\n",
       " 360: 'The King Of Taco',\n",
       " 361: \"Benateri's Italian Gourmet Deli\",\n",
       " 362: 'Woodbines',\n",
       " 363: 'Utopia Bagels',\n",
       " 364: 'Madera Cuban Grill & Steakhouse',\n",
       " 365: 'Palermo Restaurant & Bar',\n",
       " 366: 'Turkish Grill',\n",
       " 367: 'Forno Pizzeria E Trattoria',\n",
       " 368: 'Otis',\n",
       " 369: 'Doma',\n",
       " 370: 'Shuya Cafe de Ramen',\n",
       " 371: \"Joe's Restaurant\",\n",
       " 372: 'Copper Kettle Bar & Restaurant',\n",
       " 373: 'T-Swirl Crêpe',\n",
       " 374: 'De Mole',\n",
       " 375: 'Blue Cups',\n",
       " 376: 'Kabayan',\n",
       " 377: 'Kimganae',\n",
       " 378: 'Jujube Tree',\n",
       " 379: 'Numero 28 Pizzeria',\n",
       " 380: 'Totto Ramen - Flushing',\n",
       " 381: 'Beija Flor',\n",
       " 382: 'Veggie Castle II',\n",
       " 383: 'Little Sheep Mongolian Hot Pot',\n",
       " 384: 'Agora Taverna',\n",
       " 385: 'Manor Oktoberfest',\n",
       " 386: 'The Ditty',\n",
       " 387: 'Sifu Chio',\n",
       " 388: 'Keuka Kafe a Wine Bar',\n",
       " 389: 'Aroma Indian Cuisine',\n",
       " 390: 'Hk Cafe',\n",
       " 391: 'Father Knows Best',\n",
       " 392: 'Dynamite Seafood',\n",
       " 393: \"Neir's Tavern\",\n",
       " 394: \"Manetta's Ristorante\",\n",
       " 395: 'Java Day Cafe',\n",
       " 396: 'Samudra Vegetarian Restaurant & Chaat House',\n",
       " 397: 'The Cheesecake Factory',\n",
       " 398: 'Tacuba',\n",
       " 399: 'Brothers Taverna',\n",
       " 400: 'Arepas Grill',\n",
       " 401: 'Green Zenphony',\n",
       " 402: 'La Boina Roja Steak House',\n",
       " 403: 'Shogun Hibachi',\n",
       " 404: 'UThai',\n",
       " 405: 'Chivito De Oro',\n",
       " 406: 'Cyclo',\n",
       " 407: 'Shaking Crab',\n",
       " 408: 'Nan Xiang Xiao Long Bao',\n",
       " 409: 'Yaar Indian Restaurant',\n",
       " 410: 'Fino Wine & Tapas',\n",
       " 411: \"Connolly's Corner\",\n",
       " 412: 'Halal Munchies',\n",
       " 413: 'Mad Donkey Beer Bar & Grill',\n",
       " 414: 'Corona Diner',\n",
       " 415: 'El Gauchito',\n",
       " 416: 'Pampas Argentinas',\n",
       " 417: 'La Esquina Criolla',\n",
       " 418: 'Oro Restaurant & Lounge',\n",
       " 419: 'West Bar & Lounge',\n",
       " 420: 'Pollos A La Brasa Mario',\n",
       " 421: \"Rosa's Pizza\",\n",
       " 422: 'Mister Hotpot 鍋大爺',\n",
       " 423: 'Friendship Foods BBQ',\n",
       " 424: 'Taverna Kyclades - Bayside',\n",
       " 425: 'Sodam',\n",
       " 426: 'Jardin De China',\n",
       " 427: 'Zenon Taverna',\n",
       " 428: 'Yu Garden Dumpling House',\n",
       " 429: 'Mezquite Restaurant',\n",
       " 430: 'Sunswick',\n",
       " 431: 'Rolly Kimbab',\n",
       " 432: 'Burgerology',\n",
       " 433: 'Trattoria 35',\n",
       " 434: 'La Nueva Bakery',\n",
       " 435: 'Yupdduk Flushing',\n",
       " 436: 'Stamatis Restaurant',\n",
       " 437: \"Gregory's 26 Corner Taverna\",\n",
       " 438: 'El Pollo Inka Peru',\n",
       " 439: 'RESOBOX',\n",
       " 440: 'Hansol Nutrition Center',\n",
       " 441: 'Houdini Kitchen Laboratory',\n",
       " 442: \"Ida's Nearabout\",\n",
       " 443: 'Patacon Pisao',\n",
       " 444: \"Miller's Ale House - Rego Park\",\n",
       " 445: 'Pulau Pinang',\n",
       " 446: 'Bunna Cafe',\n",
       " 447: 'Reef Restaurant',\n",
       " 448: 'Shiro of Japan',\n",
       " 449: 'Lucia Pizza',\n",
       " 450: 'Pine Restaurant & Sports Bar',\n",
       " 451: 'Dutch Kills Centraal',\n",
       " 452: 'Tikka Indian Grill',\n",
       " 453: 'Peking Duck Sandwich Stall',\n",
       " 454: 'Shake Shack',\n",
       " 455: 'Little Morocco',\n",
       " 456: \"Austin's Ale House\",\n",
       " 457: 'Burger Club',\n",
       " 458: 'Indie',\n",
       " 459: 'Okonomi',\n",
       " 460: 'Taco King',\n",
       " 461: 'Pizza Classica',\n",
       " 462: 'Cevabdzinica Sarajevo',\n",
       " 463: 'Butcher Block',\n",
       " 464: 'La Fusta Restaurant',\n",
       " 465: 'Agnanti',\n",
       " 466: 'Riviera Ristorante',\n",
       " 467: 'Han Joo Chik Naeng Myun & BBQ',\n",
       " 468: \"Sangarita's\",\n",
       " 469: 'Bagel Oasis',\n",
       " 470: 'Buccaneer Diner',\n",
       " 471: 'Cachapas y Mas',\n",
       " 472: 'Kilo Astoria',\n",
       " 473: 'Sapps',\n",
       " 474: 'Modoo - Chicken & Noodle Bar',\n",
       " 475: \"Crazy Willy's\",\n",
       " 476: 'The Flying Cock',\n",
       " 477: 'PokéWave',\n",
       " 478: 'E Taverna To Koutouki',\n",
       " 479: 'Hibino',\n",
       " 480: 'Playground Bar & Bistro And Taitoon Thai Karaoke',\n",
       " 481: 'Homemade Taqueria',\n",
       " 482: 'Geo Si Gi',\n",
       " 483: 'The Strand Smokehouse',\n",
       " 484: 'New Lake Pavilion',\n",
       " 485: 'Paul Michaels Brick Oven Pizza Restaurant',\n",
       " 486: \"Maria's Mediterranean\",\n",
       " 487: 'E Noodle House',\n",
       " 488: 'Bonjuk',\n",
       " 489: 'La Gringa Bar and Grill',\n",
       " 490: \"Renee's Kitchenette & Grill\",\n",
       " 491: 'Guan Fu Sichuan',\n",
       " 492: \"Dominie's Hoek\",\n",
       " 493: 'Emoji Burger',\n",
       " 494: 'Akrotiri Seafood Taverna',\n",
       " 495: \"Halsey's Tavern\",\n",
       " 496: 'Sweet Chick',\n",
       " 497: 'Kababish',\n",
       " 498: 'Dillingers Pub & Grill',\n",
       " 499: 'Hae Woon Dae',\n",
       " 500: \"Chano's Cantina\",\n",
       " 501: 'Sushi Yasu',\n",
       " 502: 'Koliba',\n",
       " 503: 'Spicy Shallot',\n",
       " 504: 'Arepalicious',\n",
       " 505: 'New Mei Hua 新美華',\n",
       " 506: 'Tommy Thai',\n",
       " 507: 'Cafe Ole',\n",
       " 508: \"Blackbird's Bar & Restaurant\",\n",
       " 509: '3Greeks Grill',\n",
       " 510: 'Rakuzen Elmhurst',\n",
       " 511: 'Tacos Y Jugos Genesis',\n",
       " 512: 'M. Wells Steakhouse',\n",
       " 513: \"Rosa's Pizza\",\n",
       " 514: 'The Bund',\n",
       " 515: 'Café 1 of a Kind',\n",
       " 516: 'Juquila Kitchen and Bar',\n",
       " 517: 'Tower Diner',\n",
       " 518: 'Awang Kitchen',\n",
       " 519: 'Enthaice Thai Kitchen',\n",
       " 520: 'Salt + Charcoal',\n",
       " 521: 'Tea Cup Cafe',\n",
       " 522: 'Tea and Milk',\n",
       " 523: 'Little Tibet',\n",
       " 524: 'Levante',\n",
       " 525: 'Lamb Noodle Soup 滋補羊肉燴面',\n",
       " 526: 'Takesushi',\n",
       " 527: 'Dallas BBQ',\n",
       " 528: 'Tikka Indian Grill',\n",
       " 529: \"Mike's Pizza\",\n",
       " 530: \"Donovan's Pub\",\n",
       " 531: 'Lillian Pizzeria',\n",
       " 532: 'Bierocracy',\n",
       " 533: 'TJ Asian Bistro',\n",
       " 534: 'Maizal Restaurant & Tequila Bar',\n",
       " 535: 'ChilSung Korean BBQ',\n",
       " 536: \"Cristina's Deli\",\n",
       " 537: 'Black Thai',\n",
       " 538: 'Cherry Valley Deli & Grill',\n",
       " 539: 'Karczma',\n",
       " 540: 'Mustang Thakali Kitchen',\n",
       " 541: \"Addy's Barbeque\",\n",
       " 542: 'Mojave',\n",
       " 543: \"Cronin & Phelan's\",\n",
       " 544: 'New York Food Court 紐約美食城',\n",
       " 545: 'Forma Pasta Factory',\n",
       " 546: 'Chick-fil-A',\n",
       " 547: 'ECB Burgers',\n",
       " 548: 'Cheeseboat',\n",
       " 549: 'Mizumi',\n",
       " 550: 'Astoria Provisions',\n",
       " 551: 'Nikko Hibachi',\n",
       " 552: 'Iki Modern Japanese Cuisine',\n",
       " 553: 'Cobblestones Pub and Biergarten',\n",
       " 554: 'Shawarmania',\n",
       " 555: 'Stix Kosher Restaurant',\n",
       " 556: \"Joe's Shanghai\",\n",
       " 557: \"Uncle Jack's Meat House\",\n",
       " 558: 'Shake Shack',\n",
       " 559: 'Olive Garden Italian Restaurant',\n",
       " 560: 'Fukuoka Shabu Shabu',\n",
       " 561: 'Tamashii Blue',\n",
       " 562: 'Legends Bar & Grill',\n",
       " 563: 'Antica Trattoria',\n",
       " 564: 'Super  Pollo  Restaurant',\n",
       " 565: 'Astoria Pizza Factory',\n",
       " 566: 'Favela Grill',\n",
       " 567: 'Sekend Sun',\n",
       " 568: 'Goo Gong Tan',\n",
       " 569: 'nonono',\n",
       " 570: 'Don Alex',\n",
       " 571: 'Kalamaki GR',\n",
       " 572: 'Pahal Zan',\n",
       " 573: 'Shake Shack',\n",
       " 574: 'Watawa Sushi',\n",
       " 575: 'Tonkatsu Matsunoya',\n",
       " 576: 'Mi Espiguita Taqueria',\n",
       " 577: 'Don Coqui',\n",
       " 578: 'Woodhaven House',\n",
       " 579: 'Dar 525',\n",
       " 580: \"Sammy's Halal Food\",\n",
       " 581: 'Chao Thai',\n",
       " 582: 'LUNA  Asian Bistro & Lounge',\n",
       " 583: 'Xinjiang BBQ Cart',\n",
       " 584: 'Sea Wolf',\n",
       " 585: 'Juquila Mexican Cuisine',\n",
       " 586: 'Gahwa Korean Restaurant',\n",
       " 587: 'Hot Peppers',\n",
       " 588: \"Don Nico's\",\n",
       " 589: 'Naked Dog',\n",
       " 590: 'Bodai Vegetarian',\n",
       " 591: 'Joong Koog Jip',\n",
       " 592: 'Passage Irish Bar and Kitchen',\n",
       " 593: 'Win Son',\n",
       " 594: 'Oxomoco',\n",
       " 595: \"Pete's Grill\",\n",
       " 596: 'Village Grill',\n",
       " 597: 'Manducatis',\n",
       " 598: 'Sakura 7',\n",
       " 599: 'Veranda Restaurant & Cafe',\n",
       " 600: 'Ole Mexican Grille',\n",
       " 601: 'T-Swirl Crêpe',\n",
       " 602: \"Sybil's Bakery and Restaurant\",\n",
       " 603: 'Arirang Restaurant',\n",
       " 604: 'Bangkok Cuisine',\n",
       " 605: '51st Bakery and Cafe',\n",
       " 606: 'IHOP',\n",
       " 607: 'Alpha Donuts',\n",
       " 608: 'LongHorn Steakhouse',\n",
       " 609: \"Jahn's\",\n",
       " 610: 'De Mole Astoria',\n",
       " 611: 'Ichopsticks',\n",
       " 612: \"Mable's Smokehouse & Banquet Hall\",\n",
       " 613: 'Basil Brick Oven Pizza',\n",
       " 614: 'Rego Bagels',\n",
       " 615: \"Rudy's Pastry Shop\",\n",
       " 616: 'Wo Kee Noodle',\n",
       " 617: 'Jackson Diner',\n",
       " 618: \"Alfie's Pizza\"}"
      ]
     },
     "execution_count": 11,
     "metadata": {},
     "output_type": "execute_result"
    }
   ],
   "source": [
    "#dic"
   ]
  },
  {
   "cell_type": "code",
   "execution_count": 118,
   "metadata": {},
   "outputs": [
    {
     "data": {
      "text/plain": [
       "10"
      ]
     },
     "execution_count": 118,
     "metadata": {},
     "output_type": "execute_result"
    }
   ],
   "source": [
    "# tracker"
   ]
  },
  {
   "cell_type": "code",
   "execution_count": null,
   "metadata": {},
   "outputs": [],
   "source": [
    "#problem still is finding the entry.\n",
    "#Create dictionary? or create matching list, transpose?\n",
    "#how to save index location from matching name?"
   ]
  }
 ],
 "metadata": {
  "kernelspec": {
   "display_name": "Python 3",
   "language": "python",
   "name": "python3"
  },
  "language_info": {
   "codemirror_mode": {
    "name": "ipython",
    "version": 3
   },
   "file_extension": ".py",
   "mimetype": "text/x-python",
   "name": "python",
   "nbconvert_exporter": "python",
   "pygments_lexer": "ipython3",
   "version": "3.7.3"
  },
  "toc": {
   "base_numbering": 1,
   "nav_menu": {},
   "number_sections": true,
   "sideBar": true,
   "skip_h1_title": false,
   "title_cell": "Table of Contents",
   "title_sidebar": "Contents",
   "toc_cell": false,
   "toc_position": {},
   "toc_section_display": true,
   "toc_window_display": false
  }
 },
 "nbformat": 4,
 "nbformat_minor": 2
}
