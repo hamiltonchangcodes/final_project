{
 "cells": [
  {
   "cell_type": "code",
   "execution_count": 1,
   "metadata": {},
   "outputs": [],
   "source": [
    "import pandas as pd"
   ]
  },
  {
   "cell_type": "code",
   "execution_count": 2,
   "metadata": {},
   "outputs": [],
   "source": [
    "df = pd.read_json('reportcardQueens.json')"
   ]
  },
  {
   "cell_type": "code",
   "execution_count": 3,
   "metadata": {},
   "outputs": [],
   "source": [
    "df1 = pd.read_json('reportcardBrooklyn.json')"
   ]
  },
  {
   "cell_type": "code",
   "execution_count": 4,
   "metadata": {},
   "outputs": [
    {
     "data": {
      "text/html": [
       "<div>\n",
       "<style scoped>\n",
       "    .dataframe tbody tr th:only-of-type {\n",
       "        vertical-align: middle;\n",
       "    }\n",
       "\n",
       "    .dataframe tbody tr th {\n",
       "        vertical-align: top;\n",
       "    }\n",
       "\n",
       "    .dataframe thead th {\n",
       "        text-align: right;\n",
       "    }\n",
       "</style>\n",
       "<table border=\"1\" class=\"dataframe\">\n",
       "  <thead>\n",
       "    <tr style=\"text-align: right;\">\n",
       "      <th></th>\n",
       "      <th>negfood_score</th>\n",
       "      <th>negservice_score</th>\n",
       "      <th>posfood_score</th>\n",
       "      <th>posservice_score</th>\n",
       "      <th>restaurant</th>\n",
       "    </tr>\n",
       "  </thead>\n",
       "  <tbody>\n",
       "    <tr>\n",
       "      <th>0</th>\n",
       "      <td>0.039683</td>\n",
       "      <td>0.063492</td>\n",
       "      <td>0.539683</td>\n",
       "      <td>0.357143</td>\n",
       "      <td>Mominette</td>\n",
       "    </tr>\n",
       "    <tr>\n",
       "      <th>1</th>\n",
       "      <td>0.079365</td>\n",
       "      <td>0.071429</td>\n",
       "      <td>0.595238</td>\n",
       "      <td>0.253968</td>\n",
       "      <td>Peaches HotHouse</td>\n",
       "    </tr>\n",
       "    <tr>\n",
       "      <th>2</th>\n",
       "      <td>0.048780</td>\n",
       "      <td>0.081301</td>\n",
       "      <td>0.504065</td>\n",
       "      <td>0.365854</td>\n",
       "      <td>Baron's</td>\n",
       "    </tr>\n",
       "    <tr>\n",
       "      <th>3</th>\n",
       "      <td>0.049587</td>\n",
       "      <td>0.024793</td>\n",
       "      <td>0.710744</td>\n",
       "      <td>0.214876</td>\n",
       "      <td>Lowerline</td>\n",
       "    </tr>\n",
       "    <tr>\n",
       "      <th>4</th>\n",
       "      <td>0.032520</td>\n",
       "      <td>0.056911</td>\n",
       "      <td>0.471545</td>\n",
       "      <td>0.439024</td>\n",
       "      <td>Claw Daddy's</td>\n",
       "    </tr>\n",
       "  </tbody>\n",
       "</table>\n",
       "</div>"
      ],
      "text/plain": [
       "   negfood_score  negservice_score  posfood_score  posservice_score  \\\n",
       "0       0.039683          0.063492       0.539683          0.357143   \n",
       "1       0.079365          0.071429       0.595238          0.253968   \n",
       "2       0.048780          0.081301       0.504065          0.365854   \n",
       "3       0.049587          0.024793       0.710744          0.214876   \n",
       "4       0.032520          0.056911       0.471545          0.439024   \n",
       "\n",
       "         restaurant  \n",
       "0         Mominette  \n",
       "1  Peaches HotHouse  \n",
       "2           Baron's  \n",
       "3         Lowerline  \n",
       "4      Claw Daddy's  "
      ]
     },
     "execution_count": 4,
     "metadata": {},
     "output_type": "execute_result"
    }
   ],
   "source": [
    "df1.head()"
   ]
  },
  {
   "cell_type": "code",
   "execution_count": 5,
   "metadata": {},
   "outputs": [],
   "source": [
    "df.to_csv('displaycardQueens.csv')"
   ]
  },
  {
   "cell_type": "code",
   "execution_count": 6,
   "metadata": {},
   "outputs": [],
   "source": [
    "df1.to_csv('displaycardBrooklyn.csv')"
   ]
  },
  {
   "cell_type": "code",
   "execution_count": null,
   "metadata": {},
   "outputs": [],
   "source": []
  }
 ],
 "metadata": {
  "kernelspec": {
   "display_name": "Python 3",
   "language": "python",
   "name": "python3"
  },
  "language_info": {
   "codemirror_mode": {
    "name": "ipython",
    "version": 3
   },
   "file_extension": ".py",
   "mimetype": "text/x-python",
   "name": "python",
   "nbconvert_exporter": "python",
   "pygments_lexer": "ipython3",
   "version": "3.7.3"
  },
  "toc": {
   "base_numbering": 1,
   "nav_menu": {},
   "number_sections": true,
   "sideBar": true,
   "skip_h1_title": false,
   "title_cell": "Table of Contents",
   "title_sidebar": "Contents",
   "toc_cell": false,
   "toc_position": {},
   "toc_section_display": true,
   "toc_window_display": false
  }
 },
 "nbformat": 4,
 "nbformat_minor": 2
}
