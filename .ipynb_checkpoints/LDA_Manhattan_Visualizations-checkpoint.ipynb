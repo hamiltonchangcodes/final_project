{
 "cells": [
  {
   "cell_type": "markdown",
   "metadata": {},
   "source": [
    "## Import Libraries"
   ]
  },
  {
   "cell_type": "code",
   "execution_count": 1,
   "metadata": {},
   "outputs": [],
   "source": [
    "import pandas as pd\n",
    "from gensim.test.utils import datapath\n",
    "import nltk\n",
    "from nltk import punkt\n",
    "from nltk.tokenize import word_tokenize\n",
    "from nltk.corpus import stopwords\n",
    "stop = set(stopwords.words('english'))\n",
    "pd.options.display.max_columns = 999\n",
    "lemmatizer = WordNetLemmatizer()\n",
    "tokenizer = word_tokenize\n"
   ]
  },
  {
   "cell_type": "markdown",
   "metadata": {},
   "source": [
    "## Helper Functions"
   ]
  },
  {
   "cell_type": "code",
   "execution_count": null,
   "metadata": {},
   "outputs": [],
   "source": [
    "import string \n",
    "def remove_punctuations(text):\n",
    "    for punctuation in string.punctuation:\n",
    "        text = text.replace(punctuation, ' ')\n",
    "    return text"
   ]
  },
  {
   "cell_type": "markdown",
   "metadata": {},
   "source": [
    "## Stop Words"
   ]
  },
  {
   "cell_type": "code",
   "execution_count": null,
   "metadata": {},
   "outputs": [],
   "source": [
    "stops = ['thing', 'might', 'makes', 'eating', 'real', 'let', 'tried', 'far', 'reasonable', 'husband', 'truly',\n",
    "        'pm', 'am', 'else', 'seemed', 'someone', 'good', 'like', 'really', 'place', 'would', 'pretty', 'bit', 'much',\n",
    "        'better', 'great', 'amazing', 'place', 'delicous', 'back', 'good', 'definitely', 'best', 'love', 'recommend',\n",
    "        'good', 'great', 'place', 'nice', 'really', 'bar', 'back', 'definitely', 'came', 'pretty', 'dish', 'ordered',\n",
    "        'dessert', 'happy', 'hour', 'drinks', 'beer', 'bar', 'new', 'always', 'one', 'go', 'location', 'get', 'place',\n",
    "        'york', 'us', 'time', 'table', 'one', 'order', 'get', 'came', 'would', 'back', 'even', 'course', 'waaaine',\n",
    "        'dining', 'meal', 'course', 'dishes', 'impeccable', 'juicy', 'later', 'margarita', 'fine', 'hard', 'less',\n",
    "        'especially', 'items', 'given', 'vietnamese', 'late', 'not', 'can', 'astoria', 'steakhouse', 'terrible',\n",
    "        'empty', 'like', 'boat', 'leave', 'call', 'offer', 'consider', 'disappoint', 'without', 'stop', 'delivery',\n",
    "        'patio', 'smoke', 'dress', 'keep', 'market', 'park', 'floor', 'hotel', 'th', 'upstairs', 'locate', 'near',\n",
    "        'pair', 'piece', 'solid', 'set', 'fill', 'interior', 'put', 'chinatown', 'piece', 'shop', 'solid', 'season',\n",
    "        'boy', 'welcome', 'return', 'price', 'expensive', 'chea', 'overprice', 'cost', 'money', 'spend', 'receive',\n",
    "        'include', 'quick', 'fast', 'black', 'salt', 'add', 'charge', 'sum', 'bottomless', 'poach', 'kitchen', \n",
    "        'plat', 'mean', 'anything', 'three', 'tiny', 'level', 'dry', 'half', 'use', 'anything', 'mean', 'honestly',\n",
    "        'almost', 'summer', 'close', 'rich', 'salty', 'red', 'couple', 'plat', 'show', 'occasion', 'least', 'lack',\n",
    "        'reason', 'either', 'miss', 'hours', 'rat', 'guess', 'instead', 'understand', 'mind', 'outstanding', \n",
    "        'platter', 'rude', 'greet', 'guy', 'girl', 'woman', 'man', 'cold', 'soft', 'white', 'fixe', 'pre', 'prix',\n",
    "        'refresh', 'le', 'range', 'terrific', 'craft', 'hill', 'non', 'pot', 'win', 'live', 'weekend', 'surprise',\n",
    "        'shack', 'po', 'raw', 'dozen', 'extra', 'finish', 'care', 'extremely', 'spring', 'bag', 'cheap', 'card',\n",
    "        'plan', 'kid', 'credit', 'card', 'gluten', 'today', 'counter', 'chelsea', 'daughter', 'nephew', 'niece',\n",
    "        'son', 'father', 'mother', 'aunt', 'uncle', 'father', 'mother', 'ago', 'morning', 'sister', 'brother', \n",
    "        'kind', 'yet', 'prepare', 'present', 'creative', 'beautifully', 'presentation', 'appetizers', 'house', \n",
    "        'upon', 'stumble', 'ny', 'square', 'station', 'deal', 'option', 'number', 'note', 'minute', 'early', \n",
    "        'private', 'run', 'hand', 'establishment', 'type', 'cook', 'box', 'fact', 'rather', 'remember', 'dollars',\n",
    "        'forget', 'refill', 'ready', 'mins', 'blue', 'farm', 'freeze', 'strong', 'lady', 'man', 'tap', 'hell', \n",
    "        'eye', 'b', 'watch', 'game', 'meet', 'hh', 'town', 'grab', 'c', 'exceptional', 'celebrate', 'treat',\n",
    "        'beyond', 'year', 'please', 'anniversary', 'birthday', 'week', 'certainly', 'expectations', 'note', 'book', \n",
    "        'four', 'choose', 'balance', 'simply', 'perhaps', 'rather', 'together', 'mediocre', 'unfortunately',\n",
    "        'rather', 'meh', 'mehhhhh', 'buy', 'con', 'expectations', 'store', 'hype', 'suppose', 'despite', 'unless', \n",
    "        'forget', 'event', 'baby', 'partner', 'scene', 'photo', 'days', 'locations', 'bc', 'frequent', 'hair', \n",
    "        'pitcher', 'utensils','fly', 'fiancé', 'brown', 'chic', 'tart', 'savory', 'specials', 'low', 'notch', \n",
    "        'dark', 'combo', 'saw', 'mom', 'already', 'poor', 'worst', 'save', 'horrible', 'business', 'ruin', 'happen',\n",
    "        'smell', 'sorry', 'immediately', 'help', 'stand', 'huge', 'w', 'soon', 'casual', 'district', 'unlimited',\n",
    "        'board', 'stay', 'upper', 'par', 'part', 'garden', 'stand', 'somewhat', 'term', 'style', 'fan', 'write',\n",
    "        'read', 'literally', 'change', 'mention', 'pick', 'send', 'weird', 'whole', 'basically', 'annoy', 'delish',\n",
    "        'mouth', 'question', 'refill', 'question', 'boyfriend', 'bf', 'girlfriend', 'gf', 'wow', 'stuff',\n",
    "        'complimentary', 'superb', 'pleasant', 'reasonably', 'provide', 'entire', 'rush']\n",
    "\n"
   ]
  },
  {
   "cell_type": "code",
   "execution_count": 2,
   "metadata": {},
   "outputs": [],
   "source": [
    "morestops = ['light', 'main', 'appetizer', 'city', 'left', 'felt', 'pot', 'chinese', 'hot', 'name', 'sure', \n",
    "            'walked', 'sit', 'door', 'yelp', 'group', 'options', 'portions', 'find', 'absolutely', 'neighborhood',\n",
    "            'ice', 'desserts', 'enjoyed', 'courses', 'busy', 'large', 'friday', '4', 'able', 'packed', \n",
    "            'reservations', 'saturday', 'reservation', 'full', 'average', 'feel', 'looking', 'gave', 'brought', \n",
    "            'must', 'york', 'michelin', 'not', 'can', 'tell', 'home', 'awesome', 'different', 'bbq', 'lot', 'size', \n",
    "            'amount', 'plate', 'long', 'theres', 'open', 'line', 'big', 'crowded', 'seated', 'lovely', 'cozy', \n",
    "            'waiting', 'sat', 'seats', 'inside', 'cool', 'wall', 'walk', 'front', 'free', 'old', 'sometimes', \n",
    "            'usually', 'yes', 'theyre', 'youll', 'often', 'isnt', 'things', 'gem', 'bill', 'cash', 'bland', 'room', \n",
    "            'end', 'view', 'evening','waited', '20', '5', 'friendly', 'loud', 'fun', 'mexican', 'coming', 'enjoy',\n",
    "            'greek', 'outdoor', 'warm', 'not', 'can', 'oh', 'wrong', 'na', 'street', 'cocktail', 'beers', 'glass',\n",
    "            'brooklyn', 'manhattan', 'may', 'bottle', 'started', 'tender', 'slow', 'sauce', 'sweet', 'seating', \n",
    "            'lunch', 'menu', 'stars', 'quality', 'nothing', 'worth', 'reservation', 'recommend', 'spot', 'happy', \n",
    "            'everything', 'cooked', 'bread', 'outside', 'tables', 'location', 'mac', 'course', 'made', 'never',\n",
    "            'another', 'know', 'take', 'korean', 'french', 'italian', 'sauce', 'area', 'even', 'said', 'took', \n",
    "            'people', 'could', 'wait', 'first', 'always', 'go', 'love', 'new', 'im', 'come', 'favorite', 'times', \n",
    "            'excellent', 'night','hour', 'pretty', 'bit', 'small', 'little', 'though', 'much', 'think', 'better',\n",
    "            'quite', 'spicy','side', 'time', 'definitely', 'would', 'delicious', 'dont', 'dish', 'ordered', 'table', \n",
    "            'place', 'nice', 'bar', 'also', 'came', 'great', 'good', 'amazing', 'restaurant', 'really', 'well', \n",
    "            'bad', 'minutes', 'nice', 'back', 'best', 'ive', 'like','dont','get', 'us', 'came', 'order','minutes',\n",
    "            'one', 'asked', 'got', 'didnt', 'perfectly', 'meal', 'dishes', 'cream', 'want', 'make', 'youre', 'eat', \n",
    "            'way', 'thats', 'say', 'need', 'see', 'something', 'dinner', 'every', 'highly', 'wonderful', 'nyc', \n",
    "            'perfect', 'told', 'drinks', 'wanted', 'went', 'wasnt', 'taste', 'overall', '2', '3', 'around', \n",
    "            'japanese', 'flavor', 'rib', 'can', 'not', 'oh', 'lol', 'point', 'wife', 'brooklyn',' vietnamese', \n",
    "            'bite', 'n', 'enough', 'although', 'expect', 'per', 'person', 'tender', 'flavorful', 'green', 'tasted',\n",
    "            'texture', 'give', 'going', 'still', 'ever', 'reviews', 'review', 'cant', 'many', 'restaurants', 'wine',\n",
    "            'dining', 'top', 'beautiful', 'special', 'tasting', 'birthday', 'incredible', 'fried', 'sunday', 'water', \n",
    "            'friend', 'drink', 'friends', 'super', 'music', 'cocktails', 'vibe', 'space', 'coffee', 'medium', 'meat',\n",
    "            'rare', 'grill', 'cut', 'bone', 'roasted', 'fresh', 'brunch', 'breakfast', 'dessert', 'toast', 'two',\n",
    "            'dessert','seafood', 'perfectly', 'meal', 'dishes', 'cream', 'want', 'make', 'youre', 'eat', 'way', \n",
    "            'thats', 'say', 'need', 'see', 'something', 'dinner', 'every', 'highly', 'wonderful', 'nyc', 'perfect',\n",
    "            'told', 'drinks', 'wanted', 'went', 'wasnt', 'taste', 'overall', '2', '3', 'around', 'japanese', 'flavor', 'rib', 'can', 'not', 'oh', 'lol',\n",
    "            'point', 'wife', 'brooklyn', 'vietnamese', 'bite', 'n', 'enough', 'although', 'expect', 'per', 'person',\n",
    "            'tender', 'flavorful', 'green', 'tasted', 'texture', 'tea', 'thai', 'ask', 'arrived', 'party', 'cake', \n",
    "            'date', 'selection', 'cute', 'try', 'bowl', 'probably', 'high', 'however', 'id', 'decent', 'maybe', \n",
    "            'places', 'village', 'east', 'tapas', 'west', 'sangria', 'de', 'margaritas', 'dan', 'visit', 'last', \n",
    "            'family', 'years', 'everyone', 'thank', 'hearing', 'tons','rave','finally','decided','actually',\n",
    "            'second','puts','bring','youd','impress','list', 'personally', 'neighborhood', 'loved', 'fantastic', \n",
    "            'absolutely', 'grilled', 'tasty', 'crispy', 'portion', 'served', 'day', 'right', 'party', 'next',\n",
    "            'since', 'away', 'arrived', 'ok', 'however', 'maybe', 'tip', 'star', 'okay', 'short', 'flavors', \n",
    "            'vegan', 'la', 'unique', 'ingredients', 'interesting', 'cuisine', 'time', 'definitely', 'would', \n",
    "            'delicious', 'dont', 'dish', 'ordered', 'table', 'place', 'nice', 'bar', 'also', 'came', 'great', 'good', \n",
    "            'amazing', 'restaurant', 'really', 'well', 'bad', 'minutes', 'nice', 'back', 'best', 'ive', 'like','dont',\n",
    "            'get', 'us', 'came', 'order','minutes','one', 'asked', 'got', 'didnt','thing', 'might', 'makes', 'eating', \n",
    "            'real', 'let', 'tried', 'far', 'reasonable', 'husband', 'truly', 'pm', 'am', 'else', 'seemed', 'someone', \n",
    "            'good', 'like', 'really', 'place', 'would', 'pretty', 'bit', 'much', 'better', 'great', 'amazing', 'place', \n",
    "            'delicous', 'back', 'good', 'definitely', 'best', 'love', 'recommend', 'good', 'great', 'place', 'nice', \n",
    "            'really', 'bar', 'back', 'definitely', 'came', 'pretty', 'dish', 'ordered', 'dessert', 'happy', 'hour', \n",
    "            'drinks', 'beer', 'bar', 'new', 'always', 'one', 'go', 'location', 'get', 'place', 'york', 'us', 'time',\n",
    "            'table', 'one', 'order', 'get', 'came', 'would', 'back', 'even', 'course', 'wine', 'dining', 'meal', \n",
    "            'course', 'dishes', 'impeccable', 'juicy', 'later', 'margarita', 'fine', 'hard', 'less', 'especially', \n",
    "            'items', 'given', 'vietnamese', 'late', 'not', 'can', 'here', 'there', 'yummy', 'can', 'din', 'seat', \n",
    "            'look', 'crowd', 'work', 'amaze', 'pay', 'seem', 'share', 'start']"
   ]
  },
  {
   "cell_type": "code",
   "execution_count": null,
   "metadata": {},
   "outputs": [],
   "source": [
    "stop.update(stops)"
   ]
  },
  {
   "cell_type": "code",
   "execution_count": null,
   "metadata": {},
   "outputs": [],
   "source": [
    "stop.update(morestops)"
   ]
  },
  {
   "cell_type": "markdown",
   "metadata": {},
   "source": [
    "## Load Model"
   ]
  },
  {
   "cell_type": "code",
   "execution_count": null,
   "metadata": {},
   "outputs": [],
   "source": [
    "df = pd.read_csv('cleanedManhattanfull.csv')"
   ]
  },
  {
   "cell_type": "code",
   "execution_count": null,
   "metadata": {},
   "outputs": [],
   "source": [
    "from gensim.test.utils import datapath\n",
    "\n",
    "fname = datapath('ldabestbest')\n",
    "lda = LdaModel.load(fname, mmap='r')"
   ]
  },
  {
   "cell_type": "markdown",
   "metadata": {},
   "source": [
    "##  Cleaning and Preprocessing"
   ]
  },
  {
   "cell_type": "code",
   "execution_count": null,
   "metadata": {},
   "outputs": [],
   "source": [
    "df = df.fillna(value=str('none'))"
   ]
  },
  {
   "cell_type": "code",
   "execution_count": null,
   "metadata": {},
   "outputs": [],
   "source": [
    "df.drop(columns=['Unnamed: 0', 'Restaurant_Id'], axis=1, inplace=True)"
   ]
  },
  {
   "cell_type": "code",
   "execution_count": null,
   "metadata": {},
   "outputs": [],
   "source": [
    "df['Review'] = df['Review'].apply(remove_punctuations)"
   ]
  },
  {
   "cell_type": "code",
   "execution_count": null,
   "metadata": {},
   "outputs": [],
   "source": [
    "df['Review'] = df['Review'].str.lower()"
   ]
  },
  {
   "cell_type": "code",
   "execution_count": null,
   "metadata": {},
   "outputs": [],
   "source": [
    "df['Review'] = df['Review'].str.replace('\\d+', ' ')"
   ]
  },
  {
   "cell_type": "code",
   "execution_count": null,
   "metadata": {},
   "outputs": [],
   "source": [
    "df['Review'] = df['Review'].apply(lambda x: ' '.join([item for item in x.split() if item not in stop]))"
   ]
  },
  {
   "cell_type": "code",
   "execution_count": null,
   "metadata": {},
   "outputs": [],
   "source": [
    "df['Review'] = df['Review'].apply(lambda x: ' '.join([lemmatizer.lemmatize(word, pos = 'v') for word in x.split()]))"
   ]
  },
  {
   "cell_type": "code",
   "execution_count": null,
   "metadata": {},
   "outputs": [],
   "source": [
    "df['token_Review']= df['Review'].apply(tokenizer)"
   ]
  },
  {
   "cell_type": "markdown",
   "metadata": {},
   "source": [
    "## Scoop to List"
   ]
  },
  {
   "cell_type": "code",
   "execution_count": null,
   "metadata": {},
   "outputs": [],
   "source": [
    "tokenslist = df1.values.tolist()"
   ]
  },
  {
   "cell_type": "markdown",
   "metadata": {},
   "source": [
    "### Tidying up List"
   ]
  },
  {
   "cell_type": "code",
   "execution_count": null,
   "metadata": {},
   "outputs": [],
   "source": [
    "temp = []\n",
    "for row in tokenslist:\n",
    "    if type(row) == list:\n",
    "        temp.extend(row)"
   ]
  },
  {
   "cell_type": "code",
   "execution_count": null,
   "metadata": {},
   "outputs": [],
   "source": [
    "def deleting(list_1,del_name):\n",
    "    for sub_list in tqdm(list_1):\n",
    "        if del_name in sub_list:\n",
    "            list_1.remove(sub_list)\n",
    "    return list_1\n",
    "\n",
    "deleting(temp, 'none')"
   ]
  },
  {
   "cell_type": "markdown",
   "metadata": {},
   "source": [
    "### Last Stop Word Removal"
   ]
  },
  {
   "cell_type": "code",
   "execution_count": null,
   "metadata": {},
   "outputs": [],
   "source": [
    "temps=[]\n",
    "for review in temp:\n",
    "    wr=[]\n",
    "    for word in review:\n",
    "        if word not in stop:\n",
    "            wr.append(word)\n",
    "    temps.append(wr)"
   ]
  },
  {
   "cell_type": "markdown",
   "metadata": {},
   "source": [
    "### Converting to BoW"
   ]
  },
  {
   "cell_type": "code",
   "execution_count": null,
   "metadata": {},
   "outputs": [],
   "source": [
    "import gensim\n",
    "from gensim import corpora\n",
    "dictionary = corpora.Dictionary(temps)\n",
    "\n",
    "doc_term_matrix = [dictionary.doc2bow(doc) for doc in temps]"
   ]
  },
  {
   "cell_type": "markdown",
   "metadata": {},
   "source": [
    "## LDA to EVERYTHING"
   ]
  },
  {
   "cell_type": "code",
   "execution_count": null,
   "metadata": {},
   "outputs": [],
   "source": [
    "for i+1 in range(150):\n",
    "    col_name = 'review_topic_'+str(i+1)\n",
    "    df[col_name] = 0"
   ]
  },
  {
   "cell_type": "code",
   "execution_count": null,
   "metadata": {},
   "outputs": [],
   "source": [
    "for row_index, row in df.iterrows():\n",
    "    row = row.copy()\n",
    "    new_doc = dictionary.doc2bow(row['temps'])\n",
    "    lda_result = lda[new_doc]\n",
    "    for tpc in lda_result:\n",
    "        col_name = 'review_topic_'+(str(tpc[0]).strip())\n",
    "        print(row_index,col_name, tpc[1])\n",
    "        df.loc[row_index,col_name] = tpc[1]"
   ]
  },
  {
   "cell_type": "code",
   "execution_count": null,
   "metadata": {},
   "outputs": [],
   "source": []
  }
 ],
 "metadata": {
  "kernelspec": {
   "display_name": "Python 3",
   "language": "python",
   "name": "python3"
  },
  "language_info": {
   "codemirror_mode": {
    "name": "ipython",
    "version": 3
   },
   "file_extension": ".py",
   "mimetype": "text/x-python",
   "name": "python",
   "nbconvert_exporter": "python",
   "pygments_lexer": "ipython3",
   "version": "3.7.3"
  },
  "toc": {
   "base_numbering": 1,
   "nav_menu": {},
   "number_sections": true,
   "sideBar": true,
   "skip_h1_title": false,
   "title_cell": "Table of Contents",
   "title_sidebar": "Contents",
   "toc_cell": false,
   "toc_position": {},
   "toc_section_display": true,
   "toc_window_display": true
  }
 },
 "nbformat": 4,
 "nbformat_minor": 2
}
