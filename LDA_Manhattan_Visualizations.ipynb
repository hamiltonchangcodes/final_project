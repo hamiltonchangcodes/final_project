{
 "cells": [
  {
   "cell_type": "markdown",
   "metadata": {},
   "source": [
    "## Import Libraries"
   ]
  },
  {
   "cell_type": "code",
   "execution_count": 16,
   "metadata": {},
   "outputs": [],
   "source": [
    "import gensim\n",
    "from gensim import corpora\n",
    "import pandas as pd\n",
    "from gensim.test.utils import datapath\n",
    "import pyLDAvis\n",
    "import pyLDAvis.gensim\n",
    "stop = set(stopwords.words('english'))\n",
    "pd.options.display.max_columns = 999\n",
    "\n",
    "LDA = gensim.models.ldamodel.LdaModel"
   ]
  },
  {
   "cell_type": "markdown",
   "metadata": {},
   "source": [
    "## Load Model"
   ]
  },
  {
   "cell_type": "code",
   "execution_count": 14,
   "metadata": {},
   "outputs": [],
   "source": [
    "from gensim.test.utils import datapath\n",
    "\n",
    "fname = ('newbestldamulticore2')\n",
    "lda = LDA.load(fname, mmap='r')"
   ]
  },
  {
   "cell_type": "code",
   "execution_count": 15,
   "metadata": {},
   "outputs": [
    {
     "data": {
      "text/plain": [
       "[(0,\n",
       "  '0.003*\"maitre\" + 0.002*\"danny\" + 0.002*\"kitty\" + 0.002*\"sean\" + 0.002*\"pubs\" + 0.002*\"tia\" + 0.002*\"mazing\" + 0.002*\"connect\" + 0.002*\"mocktail\" + 0.002*\"coca\"'),\n",
       " (1,\n",
       "  '0.025*\"service\" + 0.012*\"atmosphere\" + 0.012*\"staff\" + 0.004*\"ambiance\" + 0.004*\"poisoning\" + 0.004*\"awful\" + 0.004*\"beignets\" + 0.003*\"cancel\" + 0.003*\"explaining\" + 0.003*\"maduros\"'),\n",
       " (2,\n",
       "  '0.009*\"service\" + 0.006*\"staff\" + 0.006*\"experience\" + 0.004*\"atmosphere\" + 0.004*\"server\" + 0.003*\"waiter\" + 0.003*\"attentive\" + 0.003*\"waitress\" + 0.003*\"prices\" + 0.003*\"check\"'),\n",
       " (3,\n",
       "  '0.022*\"arepa\" + 0.009*\"takoyaki\" + 0.007*\"milkshake\" + 0.005*\"urchin\" + 0.004*\"fishing\" + 0.004*\"collar\" + 0.004*\"elote\" + 0.004*\"momo\" + 0.003*\"panang\" + 0.002*\"patrick\"'),\n",
       " (4,\n",
       "  '0.013*\"eggs\" + 0.008*\"pancakes\" + 0.008*\"benedict\" + 0.006*\"cone\" + 0.006*\"bagel\" + 0.004*\"huevos\" + 0.004*\"snapper\" + 0.004*\"waffles\" + 0.004*\"mimosas\" + 0.004*\"croissant\"'),\n",
       " (5,\n",
       "  '0.007*\"okonomiyaki\" + 0.006*\"kabob\" + 0.005*\"souvlaki\" + 0.005*\"tsukemen\" + 0.004*\"shish\" + 0.003*\"soondubu\" + 0.002*\"milanese\" + 0.002*\"ship\" + 0.002*\"michelada\" + 0.002*\"spirits\"'),\n",
       " (6,\n",
       "  '0.030*\"tacos\" + 0.019*\"taco\" + 0.011*\"guacamole\" + 0.011*\"shawarma\" + 0.009*\"guac\" + 0.008*\"chips\" + 0.007*\"salsa\" + 0.007*\"burrito\" + 0.006*\"quesadilla\" + 0.006*\"queso\"'),\n",
       " (7,\n",
       "  '0.007*\"yuca\" + 0.007*\"tostada\" + 0.005*\"pierogies\" + 0.005*\"yakisoba\" + 0.004*\"turnip\" + 0.003*\"license\" + 0.003*\"autumn\" + 0.003*\"pisco\" + 0.003*\"gumbo\" + 0.003*\"pancetta\"'),\n",
       " (8,\n",
       "  '0.005*\"bento\" + 0.004*\"fusilli\" + 0.004*\"nigiri\" + 0.004*\"porchetta\" + 0.003*\"churro\" + 0.003*\"biryani\" + 0.003*\"jjigae\" + 0.003*\"absinthe\" + 0.003*\"dover\" + 0.002*\"nanban\"'),\n",
       " (9,\n",
       "  '0.007*\"gyro\" + 0.004*\"halo\" + 0.004*\"yams\" + 0.004*\"pierogis\" + 0.003*\"velvet\" + 0.003*\"paitan\" + 0.003*\"kabobs\" + 0.003*\"pinto\" + 0.002*\"bridal\" + 0.002*\"maria\"'),\n",
       " (10,\n",
       "  '0.007*\"cheese\" + 0.006*\"burger\" + 0.006*\"chicken\" + 0.005*\"salad\" + 0.005*\"service\" + 0.005*\"pasta\" + 0.005*\"pizza\" + 0.005*\"fries\" + 0.004*\"steak\" + 0.004*\"sandwich\"'),\n",
       " (11,\n",
       "  '0.021*\"arepas\" + 0.006*\"schnitzel\" + 0.006*\"tikka\" + 0.006*\"naan\" + 0.006*\"masala\" + 0.004*\"paneer\" + 0.004*\"tostadas\" + 0.003*\"quiche\" + 0.003*\"flor\" + 0.002*\"brian\"'),\n",
       " (12,\n",
       "  '0.012*\"ramen\" + 0.012*\"noodles\" + 0.010*\"pork\" + 0.010*\"soup\" + 0.010*\"rice\" + 0.008*\"pho\" + 0.008*\"dumplings\" + 0.008*\"beef\" + 0.008*\"chicken\" + 0.007*\"broth\"'),\n",
       " (13,\n",
       "  '0.008*\"bruschetta\" + 0.005*\"refund\" + 0.003*\"friendliest\" + 0.003*\"bareburger\" + 0.003*\"funghi\" + 0.002*\"filthy\" + 0.002*\"ropa\" + 0.002*\"affogato\" + 0.002*\"decade\" + 0.002*\"havent\"'),\n",
       " (14,\n",
       "  '0.020*\"bao\" + 0.007*\"shakes\" + 0.007*\"baklava\" + 0.005*\"falafels\" + 0.005*\"baos\" + 0.004*\"xlb\" + 0.003*\"labneh\" + 0.003*\"dimsum\" + 0.003*\"carts\" + 0.003*\"poppers\"')]"
      ]
     },
     "execution_count": 15,
     "metadata": {},
     "output_type": "execute_result"
    }
   ],
   "source": [
    "lda.print_topics()"
   ]
  },
  {
   "cell_type": "markdown",
   "metadata": {},
   "source": [
    "##  PyLDAvis modeling"
   ]
  },
  {
   "cell_type": "code",
   "execution_count": 17,
   "metadata": {},
   "outputs": [
    {
     "ename": "NameError",
     "evalue": "name 'doc_term_matrix' is not defined",
     "output_type": "error",
     "traceback": [
      "\u001b[0;31m---------------------------------------------------------------------------\u001b[0m",
      "\u001b[0;31mNameError\u001b[0m                                 Traceback (most recent call last)",
      "\u001b[0;32m<ipython-input-17-a63370365185>\u001b[0m in \u001b[0;36m<module>\u001b[0;34m\u001b[0m\n\u001b[1;32m      1\u001b[0m \u001b[0mpyLDAvis\u001b[0m\u001b[0;34m.\u001b[0m\u001b[0menable_notebook\u001b[0m\u001b[0;34m(\u001b[0m\u001b[0;34m)\u001b[0m\u001b[0;34m\u001b[0m\u001b[0;34m\u001b[0m\u001b[0m\n\u001b[0;32m----> 2\u001b[0;31m \u001b[0mvis\u001b[0m \u001b[0;34m=\u001b[0m \u001b[0mpyLDAvis\u001b[0m\u001b[0;34m.\u001b[0m\u001b[0mgensim\u001b[0m\u001b[0;34m.\u001b[0m\u001b[0mprepare\u001b[0m\u001b[0;34m(\u001b[0m\u001b[0mlda\u001b[0m\u001b[0;34m,\u001b[0m \u001b[0mdoc_term_matrix\u001b[0m\u001b[0;34m,\u001b[0m \u001b[0mdictionary\u001b[0m\u001b[0;34m)\u001b[0m\u001b[0;34m\u001b[0m\u001b[0;34m\u001b[0m\u001b[0m\n\u001b[0m\u001b[1;32m      3\u001b[0m \u001b[0mvis\u001b[0m\u001b[0;34m\u001b[0m\u001b[0;34m\u001b[0m\u001b[0m\n",
      "\u001b[0;31mNameError\u001b[0m: name 'doc_term_matrix' is not defined"
     ]
    }
   ],
   "source": [
    "pyLDAvis.enable_notebook()\n",
    "vis = pyLDAvis.gensim.prepare(lda, doc_term_matrix, dictionary)\n",
    "vis"
   ]
  },
  {
   "cell_type": "code",
   "execution_count": null,
   "metadata": {},
   "outputs": [],
   "source": []
  }
 ],
 "metadata": {
  "kernelspec": {
   "display_name": "Python 3",
   "language": "python",
   "name": "python3"
  },
  "language_info": {
   "codemirror_mode": {
    "name": "ipython",
    "version": 3
   },
   "file_extension": ".py",
   "mimetype": "text/x-python",
   "name": "python",
   "nbconvert_exporter": "python",
   "pygments_lexer": "ipython3",
   "version": "3.7.3"
  },
  "toc": {
   "base_numbering": 1,
   "nav_menu": {},
   "number_sections": true,
   "sideBar": true,
   "skip_h1_title": false,
   "title_cell": "Table of Contents",
   "title_sidebar": "Contents",
   "toc_cell": false,
   "toc_position": {},
   "toc_section_display": true,
   "toc_window_display": true
  }
 },
 "nbformat": 4,
 "nbformat_minor": 2
}
